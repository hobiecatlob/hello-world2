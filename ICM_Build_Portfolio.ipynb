{
  "nbformat": 4,
  "nbformat_minor": 0,
  "metadata": {
    "colab": {
      "name": "ICM Build Portfolio.ipynb",
      "provenance": [],
      "collapsed_sections": [],
      "authorship_tag": "ABX9TyNFiNrGSJakfj72cMuNd9YQ",
      "include_colab_link": true
    },
    "kernelspec": {
      "name": "python3",
      "display_name": "Python 3"
    }
  },
  "cells": [
    {
      "cell_type": "markdown",
      "metadata": {
        "id": "view-in-github",
        "colab_type": "text"
      },
      "source": [
        "<a href=\"https://colab.research.google.com/github/hobiecatlob/hello-world2/blob/main/ICM_Build_Portfolio.ipynb\" target=\"_parent\"><img src=\"https://colab.research.google.com/assets/colab-badge.svg\" alt=\"Open In Colab\"/></a>"
      ]
    },
    {
      "cell_type": "markdown",
      "metadata": {
        "id": "rRCCJn2ckmA-"
      },
      "source": [
        "# Udemy Career 365 Python for Finance Course"
      ]
    },
    {
      "cell_type": "code",
      "metadata": {
        "colab": {
          "base_uri": "https://localhost:8080/"
        },
        "id": "MB34daqF9dhf",
        "outputId": "29e81ef8-c6fe-4682-c846-dc9742d98d51"
      },
      "source": [
        "import matplotlib.pyplot as plt\n",
        "import pandas as pd\n",
        "import numpy as np\n",
        "from scipy import stats\n",
        "import statsmodels.api as sm;\n",
        "\n",
        "import pandas_datareader.data as web\n",
        "from datetime import datetime\n",
        "import datetime\n",
        "import seaborn as sns\n",
        "\n",
        "%matplotlib inline"
      ],
      "execution_count": null,
      "outputs": [
        {
          "output_type": "stream",
          "text": [
            "/usr/local/lib/python3.6/dist-packages/statsmodels/tools/_testing.py:19: FutureWarning: pandas.util.testing is deprecated. Use the functions in the public API at pandas.testing instead.\n",
            "  import pandas.util.testing as tm\n"
          ],
          "name": "stderr"
        }
      ]
    },
    {
      "cell_type": "code",
      "metadata": {
        "colab": {
          "base_uri": "https://localhost:8080/",
          "height": 447
        },
        "id": "SnyOCA2A9eq0",
        "outputId": "48934cfb-91d0-4014-d39c-420591ebd5f4"
      },
      "source": [
        "tickers = ['PG', 'MSFT', 'F', 'GE']\n",
        "mydata = pd.DataFrame()\n",
        "\n",
        "for t in tickers:\n",
        "  mydata[t] = web.DataReader(t, 'yahoo', start = '2007-01-01')['Adj Close']\n",
        "  \n",
        "mydata"
      ],
      "execution_count": null,
      "outputs": [
        {
          "output_type": "execute_result",
          "data": {
            "text/html": [
              "<div>\n",
              "<style scoped>\n",
              "    .dataframe tbody tr th:only-of-type {\n",
              "        vertical-align: middle;\n",
              "    }\n",
              "\n",
              "    .dataframe tbody tr th {\n",
              "        vertical-align: top;\n",
              "    }\n",
              "\n",
              "    .dataframe thead th {\n",
              "        text-align: right;\n",
              "    }\n",
              "</style>\n",
              "<table border=\"1\" class=\"dataframe\">\n",
              "  <thead>\n",
              "    <tr style=\"text-align: right;\">\n",
              "      <th></th>\n",
              "      <th>PG</th>\n",
              "      <th>MSFT</th>\n",
              "      <th>F</th>\n",
              "      <th>GE</th>\n",
              "    </tr>\n",
              "    <tr>\n",
              "      <th>Date</th>\n",
              "      <th></th>\n",
              "      <th></th>\n",
              "      <th></th>\n",
              "      <th></th>\n",
              "    </tr>\n",
              "  </thead>\n",
              "  <tbody>\n",
              "    <tr>\n",
              "      <th>2007-01-03</th>\n",
              "      <td>42.380424</td>\n",
              "      <td>22.012707</td>\n",
              "      <td>5.090837</td>\n",
              "      <td>23.687462</td>\n",
              "    </tr>\n",
              "    <tr>\n",
              "      <th>2007-01-04</th>\n",
              "      <td>42.058666</td>\n",
              "      <td>21.975842</td>\n",
              "      <td>5.219631</td>\n",
              "      <td>23.550217</td>\n",
              "    </tr>\n",
              "    <tr>\n",
              "      <th>2007-01-05</th>\n",
              "      <td>41.697510</td>\n",
              "      <td>21.850521</td>\n",
              "      <td>5.165400</td>\n",
              "      <td>23.431679</td>\n",
              "    </tr>\n",
              "    <tr>\n",
              "      <th>2007-01-08</th>\n",
              "      <td>41.789440</td>\n",
              "      <td>22.064304</td>\n",
              "      <td>5.239967</td>\n",
              "      <td>23.425455</td>\n",
              "    </tr>\n",
              "    <tr>\n",
              "      <th>2007-01-09</th>\n",
              "      <td>41.684357</td>\n",
              "      <td>22.086433</td>\n",
              "      <td>5.280640</td>\n",
              "      <td>23.425455</td>\n",
              "    </tr>\n",
              "    <tr>\n",
              "      <th>...</th>\n",
              "      <td>...</td>\n",
              "      <td>...</td>\n",
              "      <td>...</td>\n",
              "      <td>...</td>\n",
              "    </tr>\n",
              "    <tr>\n",
              "      <th>2021-02-09</th>\n",
              "      <td>128.669998</td>\n",
              "      <td>243.770004</td>\n",
              "      <td>11.930000</td>\n",
              "      <td>11.540000</td>\n",
              "    </tr>\n",
              "    <tr>\n",
              "      <th>2021-02-10</th>\n",
              "      <td>128.220001</td>\n",
              "      <td>242.820007</td>\n",
              "      <td>11.760000</td>\n",
              "      <td>11.400000</td>\n",
              "    </tr>\n",
              "    <tr>\n",
              "      <th>2021-02-11</th>\n",
              "      <td>128.330002</td>\n",
              "      <td>244.490005</td>\n",
              "      <td>11.450000</td>\n",
              "      <td>11.460000</td>\n",
              "    </tr>\n",
              "    <tr>\n",
              "      <th>2021-02-12</th>\n",
              "      <td>127.620003</td>\n",
              "      <td>244.990005</td>\n",
              "      <td>11.450000</td>\n",
              "      <td>11.730000</td>\n",
              "    </tr>\n",
              "    <tr>\n",
              "      <th>2021-02-16</th>\n",
              "      <td>127.919998</td>\n",
              "      <td>243.699997</td>\n",
              "      <td>11.540000</td>\n",
              "      <td>11.970000</td>\n",
              "    </tr>\n",
              "  </tbody>\n",
              "</table>\n",
              "<p>3555 rows × 4 columns</p>\n",
              "</div>"
            ],
            "text/plain": [
              "                    PG        MSFT          F         GE\n",
              "Date                                                    \n",
              "2007-01-03   42.380424   22.012707   5.090837  23.687462\n",
              "2007-01-04   42.058666   21.975842   5.219631  23.550217\n",
              "2007-01-05   41.697510   21.850521   5.165400  23.431679\n",
              "2007-01-08   41.789440   22.064304   5.239967  23.425455\n",
              "2007-01-09   41.684357   22.086433   5.280640  23.425455\n",
              "...                ...         ...        ...        ...\n",
              "2021-02-09  128.669998  243.770004  11.930000  11.540000\n",
              "2021-02-10  128.220001  242.820007  11.760000  11.400000\n",
              "2021-02-11  128.330002  244.490005  11.450000  11.460000\n",
              "2021-02-12  127.620003  244.990005  11.450000  11.730000\n",
              "2021-02-16  127.919998  243.699997  11.540000  11.970000\n",
              "\n",
              "[3555 rows x 4 columns]"
            ]
          },
          "metadata": {
            "tags": []
          },
          "execution_count": 2
        }
      ]
    },
    {
      "cell_type": "code",
      "metadata": {
        "id": "BPn21eBbIk2j",
        "colab": {
          "base_uri": "https://localhost:8080/",
          "height": 447
        },
        "outputId": "adced221-d2ba-49e6-d578-755d29838812"
      },
      "source": [
        "mydata.pct_change()"
      ],
      "execution_count": null,
      "outputs": [
        {
          "output_type": "execute_result",
          "data": {
            "text/html": [
              "<div>\n",
              "<style scoped>\n",
              "    .dataframe tbody tr th:only-of-type {\n",
              "        vertical-align: middle;\n",
              "    }\n",
              "\n",
              "    .dataframe tbody tr th {\n",
              "        vertical-align: top;\n",
              "    }\n",
              "\n",
              "    .dataframe thead th {\n",
              "        text-align: right;\n",
              "    }\n",
              "</style>\n",
              "<table border=\"1\" class=\"dataframe\">\n",
              "  <thead>\n",
              "    <tr style=\"text-align: right;\">\n",
              "      <th></th>\n",
              "      <th>PG</th>\n",
              "      <th>MSFT</th>\n",
              "      <th>F</th>\n",
              "      <th>GE</th>\n",
              "    </tr>\n",
              "    <tr>\n",
              "      <th>Date</th>\n",
              "      <th></th>\n",
              "      <th></th>\n",
              "      <th></th>\n",
              "      <th></th>\n",
              "    </tr>\n",
              "  </thead>\n",
              "  <tbody>\n",
              "    <tr>\n",
              "      <th>2007-01-03</th>\n",
              "      <td>NaN</td>\n",
              "      <td>NaN</td>\n",
              "      <td>NaN</td>\n",
              "      <td>NaN</td>\n",
              "    </tr>\n",
              "    <tr>\n",
              "      <th>2007-01-04</th>\n",
              "      <td>-0.007592</td>\n",
              "      <td>-0.001675</td>\n",
              "      <td>0.025299</td>\n",
              "      <td>-0.005794</td>\n",
              "    </tr>\n",
              "    <tr>\n",
              "      <th>2007-01-05</th>\n",
              "      <td>-0.008587</td>\n",
              "      <td>-0.005703</td>\n",
              "      <td>-0.010390</td>\n",
              "      <td>-0.005033</td>\n",
              "    </tr>\n",
              "    <tr>\n",
              "      <th>2007-01-08</th>\n",
              "      <td>0.002205</td>\n",
              "      <td>0.009784</td>\n",
              "      <td>0.014436</td>\n",
              "      <td>-0.000266</td>\n",
              "    </tr>\n",
              "    <tr>\n",
              "      <th>2007-01-09</th>\n",
              "      <td>-0.002515</td>\n",
              "      <td>0.001003</td>\n",
              "      <td>0.007762</td>\n",
              "      <td>0.000000</td>\n",
              "    </tr>\n",
              "    <tr>\n",
              "      <th>...</th>\n",
              "      <td>...</td>\n",
              "      <td>...</td>\n",
              "      <td>...</td>\n",
              "      <td>...</td>\n",
              "    </tr>\n",
              "    <tr>\n",
              "      <th>2021-02-09</th>\n",
              "      <td>-0.003871</td>\n",
              "      <td>0.005362</td>\n",
              "      <td>0.032007</td>\n",
              "      <td>-0.006029</td>\n",
              "    </tr>\n",
              "    <tr>\n",
              "      <th>2021-02-10</th>\n",
              "      <td>-0.003497</td>\n",
              "      <td>-0.003897</td>\n",
              "      <td>-0.014250</td>\n",
              "      <td>-0.012132</td>\n",
              "    </tr>\n",
              "    <tr>\n",
              "      <th>2021-02-11</th>\n",
              "      <td>0.000858</td>\n",
              "      <td>0.006878</td>\n",
              "      <td>-0.026361</td>\n",
              "      <td>0.005263</td>\n",
              "    </tr>\n",
              "    <tr>\n",
              "      <th>2021-02-12</th>\n",
              "      <td>-0.005533</td>\n",
              "      <td>0.002045</td>\n",
              "      <td>0.000000</td>\n",
              "      <td>0.023560</td>\n",
              "    </tr>\n",
              "    <tr>\n",
              "      <th>2021-02-16</th>\n",
              "      <td>0.002351</td>\n",
              "      <td>-0.005266</td>\n",
              "      <td>0.007860</td>\n",
              "      <td>0.020460</td>\n",
              "    </tr>\n",
              "  </tbody>\n",
              "</table>\n",
              "<p>3555 rows × 4 columns</p>\n",
              "</div>"
            ],
            "text/plain": [
              "                  PG      MSFT         F        GE\n",
              "Date                                              \n",
              "2007-01-03       NaN       NaN       NaN       NaN\n",
              "2007-01-04 -0.007592 -0.001675  0.025299 -0.005794\n",
              "2007-01-05 -0.008587 -0.005703 -0.010390 -0.005033\n",
              "2007-01-08  0.002205  0.009784  0.014436 -0.000266\n",
              "2007-01-09 -0.002515  0.001003  0.007762  0.000000\n",
              "...              ...       ...       ...       ...\n",
              "2021-02-09 -0.003871  0.005362  0.032007 -0.006029\n",
              "2021-02-10 -0.003497 -0.003897 -0.014250 -0.012132\n",
              "2021-02-11  0.000858  0.006878 -0.026361  0.005263\n",
              "2021-02-12 -0.005533  0.002045  0.000000  0.023560\n",
              "2021-02-16  0.002351 -0.005266  0.007860  0.020460\n",
              "\n",
              "[3555 rows x 4 columns]"
            ]
          },
          "metadata": {
            "tags": []
          },
          "execution_count": 3
        }
      ]
    },
    {
      "cell_type": "markdown",
      "metadata": {
        "id": "mt4DMRnXyFKd"
      },
      "source": [
        "## Correlation Matrix"
      ]
    },
    {
      "cell_type": "code",
      "metadata": {
        "id": "cnsZGUrKyEcO"
      },
      "source": [
        ""
      ],
      "execution_count": null,
      "outputs": []
    },
    {
      "cell_type": "code",
      "metadata": {
        "id": "TTofMfes-nlG"
      },
      "source": [
        "#mydata['PG_Daily'] = new_data['PG'].pct_change()  #MyTest:  Daily Returns for PG"
      ],
      "execution_count": null,
      "outputs": []
    },
    {
      "cell_type": "code",
      "metadata": {
        "colab": {
          "base_uri": "https://localhost:8080/",
          "height": 447
        },
        "id": "Lx1D2Xi3BnUF",
        "outputId": "7f193020-74c0-4ba2-b5b8-aa0159c70ca3"
      },
      "source": [
        "mydata"
      ],
      "execution_count": null,
      "outputs": [
        {
          "output_type": "execute_result",
          "data": {
            "text/html": [
              "<div>\n",
              "<style scoped>\n",
              "    .dataframe tbody tr th:only-of-type {\n",
              "        vertical-align: middle;\n",
              "    }\n",
              "\n",
              "    .dataframe tbody tr th {\n",
              "        vertical-align: top;\n",
              "    }\n",
              "\n",
              "    .dataframe thead th {\n",
              "        text-align: right;\n",
              "    }\n",
              "</style>\n",
              "<table border=\"1\" class=\"dataframe\">\n",
              "  <thead>\n",
              "    <tr style=\"text-align: right;\">\n",
              "      <th></th>\n",
              "      <th>PG</th>\n",
              "      <th>MSFT</th>\n",
              "      <th>F</th>\n",
              "      <th>GE</th>\n",
              "    </tr>\n",
              "    <tr>\n",
              "      <th>Date</th>\n",
              "      <th></th>\n",
              "      <th></th>\n",
              "      <th></th>\n",
              "      <th></th>\n",
              "    </tr>\n",
              "  </thead>\n",
              "  <tbody>\n",
              "    <tr>\n",
              "      <th>2007-01-03</th>\n",
              "      <td>42.636059</td>\n",
              "      <td>22.012707</td>\n",
              "      <td>5.068240</td>\n",
              "      <td>23.318228</td>\n",
              "    </tr>\n",
              "    <tr>\n",
              "      <th>2007-01-04</th>\n",
              "      <td>42.312363</td>\n",
              "      <td>21.975842</td>\n",
              "      <td>5.196465</td>\n",
              "      <td>23.183111</td>\n",
              "    </tr>\n",
              "    <tr>\n",
              "      <th>2007-01-05</th>\n",
              "      <td>41.949009</td>\n",
              "      <td>21.850521</td>\n",
              "      <td>5.142475</td>\n",
              "      <td>23.066423</td>\n",
              "    </tr>\n",
              "    <tr>\n",
              "      <th>2007-01-08</th>\n",
              "      <td>42.041492</td>\n",
              "      <td>22.064304</td>\n",
              "      <td>5.216712</td>\n",
              "      <td>23.060289</td>\n",
              "    </tr>\n",
              "    <tr>\n",
              "      <th>2007-01-09</th>\n",
              "      <td>41.935799</td>\n",
              "      <td>22.086433</td>\n",
              "      <td>5.257203</td>\n",
              "      <td>23.060289</td>\n",
              "    </tr>\n",
              "    <tr>\n",
              "      <th>...</th>\n",
              "      <td>...</td>\n",
              "      <td>...</td>\n",
              "      <td>...</td>\n",
              "      <td>...</td>\n",
              "    </tr>\n",
              "    <tr>\n",
              "      <th>2020-12-24</th>\n",
              "      <td>137.720001</td>\n",
              "      <td>222.750000</td>\n",
              "      <td>8.860000</td>\n",
              "      <td>10.650000</td>\n",
              "    </tr>\n",
              "    <tr>\n",
              "      <th>2020-12-28</th>\n",
              "      <td>138.679993</td>\n",
              "      <td>224.960007</td>\n",
              "      <td>8.890000</td>\n",
              "      <td>10.640000</td>\n",
              "    </tr>\n",
              "    <tr>\n",
              "      <th>2020-12-29</th>\n",
              "      <td>138.419998</td>\n",
              "      <td>224.149994</td>\n",
              "      <td>8.820000</td>\n",
              "      <td>10.560000</td>\n",
              "    </tr>\n",
              "    <tr>\n",
              "      <th>2020-12-30</th>\n",
              "      <td>137.770004</td>\n",
              "      <td>221.679993</td>\n",
              "      <td>8.860000</td>\n",
              "      <td>10.710000</td>\n",
              "    </tr>\n",
              "    <tr>\n",
              "      <th>2020-12-31</th>\n",
              "      <td>137.701996</td>\n",
              "      <td>221.039993</td>\n",
              "      <td>8.825000</td>\n",
              "      <td>10.760000</td>\n",
              "    </tr>\n",
              "  </tbody>\n",
              "</table>\n",
              "<p>3525 rows × 4 columns</p>\n",
              "</div>"
            ],
            "text/plain": [
              "                    PG        MSFT         F         GE\n",
              "Date                                                   \n",
              "2007-01-03   42.636059   22.012707  5.068240  23.318228\n",
              "2007-01-04   42.312363   21.975842  5.196465  23.183111\n",
              "2007-01-05   41.949009   21.850521  5.142475  23.066423\n",
              "2007-01-08   42.041492   22.064304  5.216712  23.060289\n",
              "2007-01-09   41.935799   22.086433  5.257203  23.060289\n",
              "...                ...         ...       ...        ...\n",
              "2020-12-24  137.720001  222.750000  8.860000  10.650000\n",
              "2020-12-28  138.679993  224.960007  8.890000  10.640000\n",
              "2020-12-29  138.419998  224.149994  8.820000  10.560000\n",
              "2020-12-30  137.770004  221.679993  8.860000  10.710000\n",
              "2020-12-31  137.701996  221.039993  8.825000  10.760000\n",
              "\n",
              "[3525 rows x 4 columns]"
            ]
          },
          "metadata": {
            "tags": []
          },
          "execution_count": 5
        }
      ]
    },
    {
      "cell_type": "code",
      "metadata": {
        "colab": {
          "base_uri": "https://localhost:8080/",
          "height": 172
        },
        "id": "B7UkGHhAyodH",
        "outputId": "76e202fb-5828-4ec7-8d7c-228e1d60dd06"
      },
      "source": [
        "#Note, as this DF contains only prices this will give you the corr of their prices, NOT returns\n",
        "mydata.corr()"
      ],
      "execution_count": null,
      "outputs": [
        {
          "output_type": "execute_result",
          "data": {
            "text/html": [
              "<div>\n",
              "<style scoped>\n",
              "    .dataframe tbody tr th:only-of-type {\n",
              "        vertical-align: middle;\n",
              "    }\n",
              "\n",
              "    .dataframe tbody tr th {\n",
              "        vertical-align: top;\n",
              "    }\n",
              "\n",
              "    .dataframe thead th {\n",
              "        text-align: right;\n",
              "    }\n",
              "</style>\n",
              "<table border=\"1\" class=\"dataframe\">\n",
              "  <thead>\n",
              "    <tr style=\"text-align: right;\">\n",
              "      <th></th>\n",
              "      <th>PG</th>\n",
              "      <th>MSFT</th>\n",
              "      <th>F</th>\n",
              "      <th>GE</th>\n",
              "    </tr>\n",
              "  </thead>\n",
              "  <tbody>\n",
              "    <tr>\n",
              "      <th>PG</th>\n",
              "      <td>1.000000</td>\n",
              "      <td>0.946173</td>\n",
              "      <td>0.308354</td>\n",
              "      <td>-0.204540</td>\n",
              "    </tr>\n",
              "    <tr>\n",
              "      <th>MSFT</th>\n",
              "      <td>0.946173</td>\n",
              "      <td>1.000000</td>\n",
              "      <td>0.106025</td>\n",
              "      <td>-0.392114</td>\n",
              "    </tr>\n",
              "    <tr>\n",
              "      <th>F</th>\n",
              "      <td>0.308354</td>\n",
              "      <td>0.106025</td>\n",
              "      <td>1.000000</td>\n",
              "      <td>0.364024</td>\n",
              "    </tr>\n",
              "    <tr>\n",
              "      <th>GE</th>\n",
              "      <td>-0.204540</td>\n",
              "      <td>-0.392114</td>\n",
              "      <td>0.364024</td>\n",
              "      <td>1.000000</td>\n",
              "    </tr>\n",
              "  </tbody>\n",
              "</table>\n",
              "</div>"
            ],
            "text/plain": [
              "            PG      MSFT         F        GE\n",
              "PG    1.000000  0.946173  0.308354 -0.204540\n",
              "MSFT  0.946173  1.000000  0.106025 -0.392114\n",
              "F     0.308354  0.106025  1.000000  0.364024\n",
              "GE   -0.204540 -0.392114  0.364024  1.000000"
            ]
          },
          "metadata": {
            "tags": []
          },
          "execution_count": 6
        }
      ]
    },
    {
      "cell_type": "code",
      "metadata": {
        "colab": {
          "base_uri": "https://localhost:8080/"
        },
        "id": "jiFspOZPBo3B",
        "outputId": "27c5b0ec-e425-48a3-dabc-a59f1327d446"
      },
      "source": [
        "mydata.info()"
      ],
      "execution_count": null,
      "outputs": [
        {
          "output_type": "stream",
          "text": [
            "<class 'pandas.core.frame.DataFrame'>\n",
            "DatetimeIndex: 3525 entries, 2007-01-03 to 2020-12-31\n",
            "Data columns (total 4 columns):\n",
            " #   Column  Non-Null Count  Dtype  \n",
            "---  ------  --------------  -----  \n",
            " 0   PG      3525 non-null   float64\n",
            " 1   MSFT    3525 non-null   float64\n",
            " 2   F       3525 non-null   float64\n",
            " 3   GE      3525 non-null   float64\n",
            "dtypes: float64(4)\n",
            "memory usage: 137.7 KB\n"
          ],
          "name": "stdout"
        }
      ]
    },
    {
      "cell_type": "markdown",
      "metadata": {
        "id": "J4efOJzKK2at"
      },
      "source": [
        "# Normalize to 100\n",
        "\n",
        "Pt / P0 * 100\n",
        "The P0 means first price.  To get\n",
        "this we have to iloc[0].  Now all subsequent\n",
        "day's price is compared back to it."
      ]
    },
    {
      "cell_type": "code",
      "metadata": {
        "colab": {
          "base_uri": "https://localhost:8080/"
        },
        "id": "jtB8AlEWCM0c",
        "outputId": "903b7cab-9dd5-4591-c527-77c34249ae6e"
      },
      "source": [
        "mydata.iloc[0]"
      ],
      "execution_count": null,
      "outputs": [
        {
          "output_type": "execute_result",
          "data": {
            "text/plain": [
              "PG      42.636059\n",
              "MSFT    22.012707\n",
              "F        5.068240\n",
              "GE      23.318228\n",
              "Name: 2007-01-03 00:00:00, dtype: float64"
            ]
          },
          "metadata": {
            "tags": []
          },
          "execution_count": 8
        }
      ]
    },
    {
      "cell_type": "code",
      "metadata": {
        "colab": {
          "base_uri": "https://localhost:8080/",
          "height": 357
        },
        "id": "Y87hTVMjKMpH",
        "outputId": "d7fc6a23-0040-4aab-af56-e596dfc6b399"
      },
      "source": [
        "(mydata/ mydata.iloc[0] * 100).plot(figsize=(15,6)) ;\n"
      ],
      "execution_count": null,
      "outputs": [
        {
          "output_type": "display_data",
          "data": {
            "image/png": "[encoded data removed]",
            "text/plain": [
              "<Figure size 1080x432 with 1 Axes>"
            ]
          },
          "metadata": {
            "tags": [],
            "needs_background": "light"
          }
        }
      ]
    },
    {
      "cell_type": "code",
      "metadata": {
        "colab": {
          "base_uri": "https://localhost:8080/",
          "height": 360
        },
        "id": "9ZZT3eTsK6Q8",
        "outputId": "67dc2c13-fec8-4e56-c4f5-8179fa48db7c"
      },
      "source": [
        "mydata[-2000:].plot(figsize=(15,6)) ;  #This is 'unnormalized'.  And I sliced to get that last 2000 data points."
      ],
      "execution_count": null,
      "outputs": [
        {
          "output_type": "display_data",
          "data": {
            "image/png": "[encoded data removed]",
            "text/plain": [
              "<Figure size 1080x432 with 1 Axes>"
            ]
          },
          "metadata": {
            "tags": [],
            "needs_background": "light"
          }
        }
      ]
    },
    {
      "cell_type": "markdown",
      "metadata": {
        "id": "mYlIteRROB_A"
      },
      "source": [
        "# Calculating Returns"
      ]
    },
    {
      "cell_type": "code",
      "metadata": {
        "colab": {
          "base_uri": "https://localhost:8080/",
          "height": 447
        },
        "id": "NPlRA7H1Lno0",
        "outputId": "f489dc85-a30b-44f4-f2e1-ca31401ed616"
      },
      "source": [
        "returns = (mydata/mydata.shift(1)) - 1\n",
        "#returns = mydata.pct_change()  I prefer this way  SAME THING\n",
        "returns"
      ],
      "execution_count": null,
      "outputs": [
        {
          "output_type": "execute_result",
          "data": {
            "text/html": [
              "<div>\n",
              "<style scoped>\n",
              "    .dataframe tbody tr th:only-of-type {\n",
              "        vertical-align: middle;\n",
              "    }\n",
              "\n",
              "    .dataframe tbody tr th {\n",
              "        vertical-align: top;\n",
              "    }\n",
              "\n",
              "    .dataframe thead th {\n",
              "        text-align: right;\n",
              "    }\n",
              "</style>\n",
              "<table border=\"1\" class=\"dataframe\">\n",
              "  <thead>\n",
              "    <tr style=\"text-align: right;\">\n",
              "      <th></th>\n",
              "      <th>PG</th>\n",
              "      <th>MSFT</th>\n",
              "      <th>F</th>\n",
              "      <th>GE</th>\n",
              "    </tr>\n",
              "    <tr>\n",
              "      <th>Date</th>\n",
              "      <th></th>\n",
              "      <th></th>\n",
              "      <th></th>\n",
              "      <th></th>\n",
              "    </tr>\n",
              "  </thead>\n",
              "  <tbody>\n",
              "    <tr>\n",
              "      <th>2007-01-03</th>\n",
              "      <td>NaN</td>\n",
              "      <td>NaN</td>\n",
              "      <td>NaN</td>\n",
              "      <td>NaN</td>\n",
              "    </tr>\n",
              "    <tr>\n",
              "      <th>2007-01-04</th>\n",
              "      <td>-0.007592</td>\n",
              "      <td>-0.001675</td>\n",
              "      <td>0.025300</td>\n",
              "      <td>-0.005794</td>\n",
              "    </tr>\n",
              "    <tr>\n",
              "      <th>2007-01-05</th>\n",
              "      <td>-0.008587</td>\n",
              "      <td>-0.005703</td>\n",
              "      <td>-0.010390</td>\n",
              "      <td>-0.005033</td>\n",
              "    </tr>\n",
              "    <tr>\n",
              "      <th>2007-01-08</th>\n",
              "      <td>0.002205</td>\n",
              "      <td>0.009784</td>\n",
              "      <td>0.014436</td>\n",
              "      <td>-0.000266</td>\n",
              "    </tr>\n",
              "    <tr>\n",
              "      <th>2007-01-09</th>\n",
              "      <td>-0.002514</td>\n",
              "      <td>0.001003</td>\n",
              "      <td>0.007762</td>\n",
              "      <td>0.000000</td>\n",
              "    </tr>\n",
              "    <tr>\n",
              "      <th>...</th>\n",
              "      <td>...</td>\n",
              "      <td>...</td>\n",
              "      <td>...</td>\n",
              "      <td>...</td>\n",
              "    </tr>\n",
              "    <tr>\n",
              "      <th>2020-12-24</th>\n",
              "      <td>0.010122</td>\n",
              "      <td>0.007827</td>\n",
              "      <td>-0.014461</td>\n",
              "      <td>-0.019337</td>\n",
              "    </tr>\n",
              "    <tr>\n",
              "      <th>2020-12-28</th>\n",
              "      <td>0.006971</td>\n",
              "      <td>0.009921</td>\n",
              "      <td>0.003386</td>\n",
              "      <td>-0.000939</td>\n",
              "    </tr>\n",
              "    <tr>\n",
              "      <th>2020-12-29</th>\n",
              "      <td>-0.001875</td>\n",
              "      <td>-0.003601</td>\n",
              "      <td>-0.007874</td>\n",
              "      <td>-0.007519</td>\n",
              "    </tr>\n",
              "    <tr>\n",
              "      <th>2020-12-30</th>\n",
              "      <td>-0.004696</td>\n",
              "      <td>-0.011019</td>\n",
              "      <td>0.004535</td>\n",
              "      <td>0.014205</td>\n",
              "    </tr>\n",
              "    <tr>\n",
              "      <th>2020-12-31</th>\n",
              "      <td>-0.000494</td>\n",
              "      <td>-0.002887</td>\n",
              "      <td>-0.003950</td>\n",
              "      <td>0.004669</td>\n",
              "    </tr>\n",
              "  </tbody>\n",
              "</table>\n",
              "<p>3525 rows × 4 columns</p>\n",
              "</div>"
            ],
            "text/plain": [
              "                  PG      MSFT         F        GE\n",
              "Date                                              \n",
              "2007-01-03       NaN       NaN       NaN       NaN\n",
              "2007-01-04 -0.007592 -0.001675  0.025300 -0.005794\n",
              "2007-01-05 -0.008587 -0.005703 -0.010390 -0.005033\n",
              "2007-01-08  0.002205  0.009784  0.014436 -0.000266\n",
              "2007-01-09 -0.002514  0.001003  0.007762  0.000000\n",
              "...              ...       ...       ...       ...\n",
              "2020-12-24  0.010122  0.007827 -0.014461 -0.019337\n",
              "2020-12-28  0.006971  0.009921  0.003386 -0.000939\n",
              "2020-12-29 -0.001875 -0.003601 -0.007874 -0.007519\n",
              "2020-12-30 -0.004696 -0.011019  0.004535  0.014205\n",
              "2020-12-31 -0.000494 -0.002887 -0.003950  0.004669\n",
              "\n",
              "[3525 rows x 4 columns]"
            ]
          },
          "metadata": {
            "tags": []
          },
          "execution_count": 11
        }
      ]
    },
    {
      "cell_type": "code",
      "metadata": {
        "colab": {
          "base_uri": "https://localhost:8080/",
          "height": 172
        },
        "id": "5cGi2jqayaAT",
        "outputId": "be45de63-d7f7-4b32-c3d9-5ae1cc6ed704"
      },
      "source": [
        "returns.corr()"
      ],
      "execution_count": null,
      "outputs": [
        {
          "output_type": "execute_result",
          "data": {
            "text/html": [
              "<div>\n",
              "<style scoped>\n",
              "    .dataframe tbody tr th:only-of-type {\n",
              "        vertical-align: middle;\n",
              "    }\n",
              "\n",
              "    .dataframe tbody tr th {\n",
              "        vertical-align: top;\n",
              "    }\n",
              "\n",
              "    .dataframe thead th {\n",
              "        text-align: right;\n",
              "    }\n",
              "</style>\n",
              "<table border=\"1\" class=\"dataframe\">\n",
              "  <thead>\n",
              "    <tr style=\"text-align: right;\">\n",
              "      <th></th>\n",
              "      <th>PG</th>\n",
              "      <th>MSFT</th>\n",
              "      <th>F</th>\n",
              "      <th>GE</th>\n",
              "    </tr>\n",
              "  </thead>\n",
              "  <tbody>\n",
              "    <tr>\n",
              "      <th>PG</th>\n",
              "      <td>1.000000</td>\n",
              "      <td>0.483121</td>\n",
              "      <td>0.308434</td>\n",
              "      <td>0.399932</td>\n",
              "    </tr>\n",
              "    <tr>\n",
              "      <th>MSFT</th>\n",
              "      <td>0.483121</td>\n",
              "      <td>1.000000</td>\n",
              "      <td>0.396003</td>\n",
              "      <td>0.416051</td>\n",
              "    </tr>\n",
              "    <tr>\n",
              "      <th>F</th>\n",
              "      <td>0.308434</td>\n",
              "      <td>0.396003</td>\n",
              "      <td>1.000000</td>\n",
              "      <td>0.471530</td>\n",
              "    </tr>\n",
              "    <tr>\n",
              "      <th>GE</th>\n",
              "      <td>0.399932</td>\n",
              "      <td>0.416051</td>\n",
              "      <td>0.471530</td>\n",
              "      <td>1.000000</td>\n",
              "    </tr>\n",
              "  </tbody>\n",
              "</table>\n",
              "</div>"
            ],
            "text/plain": [
              "            PG      MSFT         F        GE\n",
              "PG    1.000000  0.483121  0.308434  0.399932\n",
              "MSFT  0.483121  1.000000  0.396003  0.416051\n",
              "F     0.308434  0.396003  1.000000  0.471530\n",
              "GE    0.399932  0.416051  0.471530  1.000000"
            ]
          },
          "metadata": {
            "tags": []
          },
          "execution_count": 12
        }
      ]
    },
    {
      "cell_type": "code",
      "metadata": {
        "id": "tXk0ohKpOTjx"
      },
      "source": [
        "weights = np.array([0.25,0.25,0.25,0.25])"
      ],
      "execution_count": null,
      "outputs": []
    },
    {
      "cell_type": "code",
      "metadata": {
        "colab": {
          "base_uri": "https://localhost:8080/"
        },
        "id": "tQ7k6tWnPN77",
        "outputId": "c3215ffd-7e7a-4c0a-bfaa-f78ce8dde0f3"
      },
      "source": [
        "#Learn about the numpy dot method.\n",
        "np.dot(returns, weights)"
      ],
      "execution_count": null,
      "outputs": [
        {
          "output_type": "execute_result",
          "data": {
            "text/plain": [
              "array([        nan,  0.00255961, -0.00742828, ..., -0.00521709,\n",
              "        0.00075611, -0.00066561])"
            ]
          },
          "metadata": {
            "tags": []
          },
          "execution_count": 14
        }
      ]
    },
    {
      "cell_type": "code",
      "metadata": {
        "colab": {
          "base_uri": "https://localhost:8080/"
        },
        "id": "u6_NRglWQJ-Y",
        "outputId": "6edc7e71-c3dd-4aad-ec7e-31abb1532e02"
      },
      "source": [
        "#Avergae annual return for each stock, I think?\n",
        "annual_returns = returns.mean() * 250\n",
        "annual_returns"
      ],
      "execution_count": null,
      "outputs": [
        {
          "output_type": "execute_result",
          "data": {
            "text/plain": [
              "PG      0.100824\n",
              "MSFT    0.203849\n",
              "F       0.132409\n",
              "GE      0.007396\n",
              "dtype: float64"
            ]
          },
          "metadata": {
            "tags": []
          },
          "execution_count": 15
        }
      ]
    },
    {
      "cell_type": "code",
      "metadata": {
        "colab": {
          "base_uri": "https://localhost:8080/"
        },
        "id": "aZ_YiOdYQ4IW",
        "outputId": "d644cb67-3c5e-4c0b-deda-b4a53906e81a"
      },
      "source": [
        "np.dot(annual_returns, weights)"
      ],
      "execution_count": null,
      "outputs": [
        {
          "output_type": "execute_result",
          "data": {
            "text/plain": [
              "0.11111958450775816"
            ]
          },
          "metadata": {
            "tags": []
          },
          "execution_count": 16
        }
      ]
    },
    {
      "cell_type": "code",
      "metadata": {
        "colab": {
          "base_uri": "https://localhost:8080/"
        },
        "id": "HnBzKnpLRQ6f",
        "outputId": "9347dfcd-72ce-450d-b004-a05fc76120c5"
      },
      "source": [
        "pfolio_1 = str(round(np.dot(annual_returns, weights), 5) * 100) + ' %'\n",
        "print (pfolio_1)"
      ],
      "execution_count": null,
      "outputs": [
        {
          "output_type": "stream",
          "text": [
            "11.112 %\n"
          ],
          "name": "stdout"
        }
      ]
    },
    {
      "cell_type": "code",
      "metadata": {
        "colab": {
          "base_uri": "https://localhost:8080/"
        },
        "id": "o9dAs1tWRt2V",
        "outputId": "b17c2d73-f6c8-4129-8163-49760b416a8a"
      },
      "source": [
        "\n",
        "\n",
        "pfolio_2 = str(round(np.dot(annual_returns, weights2), 5) * 100) + ' %'\n",
        "print (pfolio_1)\n",
        "print (pfolio_2)\n"
      ],
      "execution_count": null,
      "outputs": [
        {
          "output_type": "stream",
          "text": [
            "11.112 %\n",
            "14.21 %\n"
          ],
          "name": "stdout"
        }
      ]
    },
    {
      "cell_type": "markdown",
      "metadata": {
        "id": "qR9s6_cvkOVS"
      },
      "source": [
        "# Calc Rets for Indices\n",
        "Lesson #69 Udemy Career 365 Python for Finance Course"
      ]
    },
    {
      "cell_type": "code",
      "metadata": {
        "id": "PRQsN2U3STeS"
      },
      "source": [
        "tickers = ['^GSPC', '^IXIC', '^GDAXI', '^GSPTSE']\n",
        "ind_data = pd.DataFrame()\n",
        "\n",
        "for t in tickers:\n",
        "  ind_data[t] = web.DataReader(t, 'yahoo', start = '1997-1-1')['Adj Close']"
      ],
      "execution_count": null,
      "outputs": []
    },
    {
      "cell_type": "code",
      "metadata": {
        "colab": {
          "base_uri": "https://localhost:8080/",
          "height": 172
        },
        "id": "Qa3d9Oj4l2b5",
        "outputId": "8e68f642-f617-4ff3-e9cb-49ca37e1c3b8"
      },
      "source": [
        "ind_data.corr()"
      ],
      "execution_count": null,
      "outputs": [
        {
          "output_type": "execute_result",
          "data": {
            "text/html": [
              "<div>\n",
              "<style scoped>\n",
              "    .dataframe tbody tr th:only-of-type {\n",
              "        vertical-align: middle;\n",
              "    }\n",
              "\n",
              "    .dataframe tbody tr th {\n",
              "        vertical-align: top;\n",
              "    }\n",
              "\n",
              "    .dataframe thead th {\n",
              "        text-align: right;\n",
              "    }\n",
              "</style>\n",
              "<table border=\"1\" class=\"dataframe\">\n",
              "  <thead>\n",
              "    <tr style=\"text-align: right;\">\n",
              "      <th></th>\n",
              "      <th>^GSPC</th>\n",
              "      <th>^IXIC</th>\n",
              "      <th>^GDAXI</th>\n",
              "      <th>^GSPTSE</th>\n",
              "    </tr>\n",
              "  </thead>\n",
              "  <tbody>\n",
              "    <tr>\n",
              "      <th>^GSPC</th>\n",
              "      <td>1.000000</td>\n",
              "      <td>0.983090</td>\n",
              "      <td>0.946153</td>\n",
              "      <td>0.818335</td>\n",
              "    </tr>\n",
              "    <tr>\n",
              "      <th>^IXIC</th>\n",
              "      <td>0.983090</td>\n",
              "      <td>1.000000</td>\n",
              "      <td>0.909961</td>\n",
              "      <td>0.769199</td>\n",
              "    </tr>\n",
              "    <tr>\n",
              "      <th>^GDAXI</th>\n",
              "      <td>0.946153</td>\n",
              "      <td>0.909961</td>\n",
              "      <td>1.000000</td>\n",
              "      <td>0.888826</td>\n",
              "    </tr>\n",
              "    <tr>\n",
              "      <th>^GSPTSE</th>\n",
              "      <td>0.818335</td>\n",
              "      <td>0.769199</td>\n",
              "      <td>0.888826</td>\n",
              "      <td>1.000000</td>\n",
              "    </tr>\n",
              "  </tbody>\n",
              "</table>\n",
              "</div>"
            ],
            "text/plain": [
              "            ^GSPC     ^IXIC    ^GDAXI   ^GSPTSE\n",
              "^GSPC    1.000000  0.983090  0.946153  0.818335\n",
              "^IXIC    0.983090  1.000000  0.909961  0.769199\n",
              "^GDAXI   0.946153  0.909961  1.000000  0.888826\n",
              "^GSPTSE  0.818335  0.769199  0.888826  1.000000"
            ]
          },
          "metadata": {
            "tags": []
          },
          "execution_count": 20
        }
      ]
    },
    {
      "cell_type": "code",
      "metadata": {
        "colab": {
          "base_uri": "https://localhost:8080/",
          "height": 447
        },
        "id": "vStthgghm3wh",
        "outputId": "3446caf7-c396-4460-939d-0f01992929de"
      },
      "source": [
        "ind_data.dropna()"
      ],
      "execution_count": null,
      "outputs": [
        {
          "output_type": "execute_result",
          "data": {
            "text/html": [
              "<div>\n",
              "<style scoped>\n",
              "    .dataframe tbody tr th:only-of-type {\n",
              "        vertical-align: middle;\n",
              "    }\n",
              "\n",
              "    .dataframe tbody tr th {\n",
              "        vertical-align: top;\n",
              "    }\n",
              "\n",
              "    .dataframe thead th {\n",
              "        text-align: right;\n",
              "    }\n",
              "</style>\n",
              "<table border=\"1\" class=\"dataframe\">\n",
              "  <thead>\n",
              "    <tr style=\"text-align: right;\">\n",
              "      <th></th>\n",
              "      <th>^GSPC</th>\n",
              "      <th>^IXIC</th>\n",
              "      <th>^GDAXI</th>\n",
              "      <th>^GSPTSE</th>\n",
              "    </tr>\n",
              "    <tr>\n",
              "      <th>Date</th>\n",
              "      <th></th>\n",
              "      <th></th>\n",
              "      <th></th>\n",
              "      <th></th>\n",
              "    </tr>\n",
              "  </thead>\n",
              "  <tbody>\n",
              "    <tr>\n",
              "      <th>1997-01-02</th>\n",
              "      <td>737.010010</td>\n",
              "      <td>1280.699951</td>\n",
              "      <td>2820.810059</td>\n",
              "      <td>5904.299805</td>\n",
              "    </tr>\n",
              "    <tr>\n",
              "      <th>1997-01-03</th>\n",
              "      <td>748.030029</td>\n",
              "      <td>1310.680054</td>\n",
              "      <td>2863.260010</td>\n",
              "      <td>5919.500000</td>\n",
              "    </tr>\n",
              "    <tr>\n",
              "      <th>1997-01-06</th>\n",
              "      <td>747.650024</td>\n",
              "      <td>1316.400024</td>\n",
              "      <td>2890.199951</td>\n",
              "      <td>5920.700195</td>\n",
              "    </tr>\n",
              "    <tr>\n",
              "      <th>1997-01-07</th>\n",
              "      <td>753.229980</td>\n",
              "      <td>1327.729980</td>\n",
              "      <td>2876.340088</td>\n",
              "      <td>5946.899902</td>\n",
              "    </tr>\n",
              "    <tr>\n",
              "      <th>1997-01-08</th>\n",
              "      <td>748.409973</td>\n",
              "      <td>1320.349976</td>\n",
              "      <td>2904.080078</td>\n",
              "      <td>5930.000000</td>\n",
              "    </tr>\n",
              "    <tr>\n",
              "      <th>...</th>\n",
              "      <td>...</td>\n",
              "      <td>...</td>\n",
              "      <td>...</td>\n",
              "      <td>...</td>\n",
              "    </tr>\n",
              "    <tr>\n",
              "      <th>2020-12-21</th>\n",
              "      <td>3694.919922</td>\n",
              "      <td>12742.519531</td>\n",
              "      <td>13246.299805</td>\n",
              "      <td>17500.900391</td>\n",
              "    </tr>\n",
              "    <tr>\n",
              "      <th>2020-12-22</th>\n",
              "      <td>3687.260010</td>\n",
              "      <td>12807.919922</td>\n",
              "      <td>13418.110352</td>\n",
              "      <td>17552.500000</td>\n",
              "    </tr>\n",
              "    <tr>\n",
              "      <th>2020-12-23</th>\n",
              "      <td>3690.010010</td>\n",
              "      <td>12771.110352</td>\n",
              "      <td>13587.230469</td>\n",
              "      <td>17593.599609</td>\n",
              "    </tr>\n",
              "    <tr>\n",
              "      <th>2020-12-29</th>\n",
              "      <td>3727.040039</td>\n",
              "      <td>12850.219727</td>\n",
              "      <td>13761.379883</td>\n",
              "      <td>17543.400391</td>\n",
              "    </tr>\n",
              "    <tr>\n",
              "      <th>2020-12-30</th>\n",
              "      <td>3732.040039</td>\n",
              "      <td>12870.000000</td>\n",
              "      <td>13718.780273</td>\n",
              "      <td>17545.800781</td>\n",
              "    </tr>\n",
              "  </tbody>\n",
              "</table>\n",
              "<p>5855 rows × 4 columns</p>\n",
              "</div>"
            ],
            "text/plain": [
              "                  ^GSPC         ^IXIC        ^GDAXI       ^GSPTSE\n",
              "Date                                                             \n",
              "1997-01-02   737.010010   1280.699951   2820.810059   5904.299805\n",
              "1997-01-03   748.030029   1310.680054   2863.260010   5919.500000\n",
              "1997-01-06   747.650024   1316.400024   2890.199951   5920.700195\n",
              "1997-01-07   753.229980   1327.729980   2876.340088   5946.899902\n",
              "1997-01-08   748.409973   1320.349976   2904.080078   5930.000000\n",
              "...                 ...           ...           ...           ...\n",
              "2020-12-21  3694.919922  12742.519531  13246.299805  17500.900391\n",
              "2020-12-22  3687.260010  12807.919922  13418.110352  17552.500000\n",
              "2020-12-23  3690.010010  12771.110352  13587.230469  17593.599609\n",
              "2020-12-29  3727.040039  12850.219727  13761.379883  17543.400391\n",
              "2020-12-30  3732.040039  12870.000000  13718.780273  17545.800781\n",
              "\n",
              "[5855 rows x 4 columns]"
            ]
          },
          "metadata": {
            "tags": []
          },
          "execution_count": 21
        }
      ]
    },
    {
      "cell_type": "code",
      "metadata": {
        "colab": {
          "base_uri": "https://localhost:8080/",
          "height": 441
        },
        "id": "PCdS0AhanNZf",
        "outputId": "37f1514e-6734-4abc-dfef-146e3a39571f"
      },
      "source": [
        "ind_data[['^GSPC', '^IXIC', '^GDAXI', '^GSPTSE']].plot(figsize = (12,6))\n",
        "plt.tight_layout()"
      ],
      "execution_count": null,
      "outputs": [
        {
          "output_type": "display_data",
          "data": {
            "image/png": "[encoded data removed]",
            "text/plain": [
              "<Figure size 864x432 with 1 Axes>"
            ]
          },
          "metadata": {
            "tags": [],
            "needs_background": "light"
          }
        }
      ]
    },
    {
      "cell_type": "code",
      "metadata": {
        "colab": {
          "base_uri": "https://localhost:8080/",
          "height": 367
        },
        "id": "-C9zsHIRnQp4",
        "outputId": "f3ab1704-a09a-47d2-8ae7-f61b7187862e"
      },
      "source": [
        "# Set to normalize\n",
        "\n",
        "(ind_data/ ind_data.iloc[0] * 100).plot(figsize=(15,6)) ;"
      ],
      "execution_count": null,
      "outputs": [
        {
          "output_type": "display_data",
          "data": {
            "image/png": "[encoded data removed]",
            "text/plain": [
              "<Figure size 1080x432 with 1 Axes>"
            ]
          },
          "metadata": {
            "tags": [],
            "needs_background": "light"
          }
        }
      ]
    },
    {
      "cell_type": "code",
      "metadata": {
        "colab": {
          "base_uri": "https://localhost:8080/",
          "height": 447
        },
        "id": "sqld6dOxoyvI",
        "outputId": "f080511c-b336-443d-b309-6f11c7750498"
      },
      "source": [
        "#Calc Returns\n",
        "returns = (ind_data/ind_data.shift(1)) - 1\n",
        "#returns = ind_data.pct_change()  I prefer this way  SAME THING\n",
        "returns"
      ],
      "execution_count": null,
      "outputs": [
        {
          "output_type": "execute_result",
          "data": {
            "text/html": [
              "<div>\n",
              "<style scoped>\n",
              "    .dataframe tbody tr th:only-of-type {\n",
              "        vertical-align: middle;\n",
              "    }\n",
              "\n",
              "    .dataframe tbody tr th {\n",
              "        vertical-align: top;\n",
              "    }\n",
              "\n",
              "    .dataframe thead th {\n",
              "        text-align: right;\n",
              "    }\n",
              "</style>\n",
              "<table border=\"1\" class=\"dataframe\">\n",
              "  <thead>\n",
              "    <tr style=\"text-align: right;\">\n",
              "      <th></th>\n",
              "      <th>^GSPC</th>\n",
              "      <th>^IXIC</th>\n",
              "      <th>^GDAXI</th>\n",
              "      <th>^GSPTSE</th>\n",
              "    </tr>\n",
              "    <tr>\n",
              "      <th>Date</th>\n",
              "      <th></th>\n",
              "      <th></th>\n",
              "      <th></th>\n",
              "      <th></th>\n",
              "    </tr>\n",
              "  </thead>\n",
              "  <tbody>\n",
              "    <tr>\n",
              "      <th>1997-01-02</th>\n",
              "      <td>NaN</td>\n",
              "      <td>NaN</td>\n",
              "      <td>NaN</td>\n",
              "      <td>NaN</td>\n",
              "    </tr>\n",
              "    <tr>\n",
              "      <th>1997-01-03</th>\n",
              "      <td>0.014952</td>\n",
              "      <td>0.023409</td>\n",
              "      <td>0.015049</td>\n",
              "      <td>0.002574</td>\n",
              "    </tr>\n",
              "    <tr>\n",
              "      <th>1997-01-06</th>\n",
              "      <td>-0.000508</td>\n",
              "      <td>0.004364</td>\n",
              "      <td>0.009409</td>\n",
              "      <td>0.000203</td>\n",
              "    </tr>\n",
              "    <tr>\n",
              "      <th>1997-01-07</th>\n",
              "      <td>0.007463</td>\n",
              "      <td>0.008607</td>\n",
              "      <td>-0.004795</td>\n",
              "      <td>0.004425</td>\n",
              "    </tr>\n",
              "    <tr>\n",
              "      <th>1997-01-08</th>\n",
              "      <td>-0.006399</td>\n",
              "      <td>-0.005558</td>\n",
              "      <td>0.009644</td>\n",
              "      <td>-0.002842</td>\n",
              "    </tr>\n",
              "    <tr>\n",
              "      <th>...</th>\n",
              "      <td>...</td>\n",
              "      <td>...</td>\n",
              "      <td>...</td>\n",
              "      <td>...</td>\n",
              "    </tr>\n",
              "    <tr>\n",
              "      <th>2020-12-24</th>\n",
              "      <td>0.003537</td>\n",
              "      <td>0.002633</td>\n",
              "      <td>NaN</td>\n",
              "      <td>0.001722</td>\n",
              "    </tr>\n",
              "    <tr>\n",
              "      <th>2020-12-28</th>\n",
              "      <td>0.008723</td>\n",
              "      <td>0.007395</td>\n",
              "      <td>NaN</td>\n",
              "      <td>NaN</td>\n",
              "    </tr>\n",
              "    <tr>\n",
              "      <th>2020-12-29</th>\n",
              "      <td>-0.002227</td>\n",
              "      <td>-0.003814</td>\n",
              "      <td>-0.002096</td>\n",
              "      <td>NaN</td>\n",
              "    </tr>\n",
              "    <tr>\n",
              "      <th>2020-12-30</th>\n",
              "      <td>0.001342</td>\n",
              "      <td>0.001539</td>\n",
              "      <td>-0.003096</td>\n",
              "      <td>0.000137</td>\n",
              "    </tr>\n",
              "    <tr>\n",
              "      <th>2020-12-31</th>\n",
              "      <td>0.000423</td>\n",
              "      <td>-0.000896</td>\n",
              "      <td>NaN</td>\n",
              "      <td>-0.001235</td>\n",
              "    </tr>\n",
              "  </tbody>\n",
              "</table>\n",
              "<p>6041 rows × 4 columns</p>\n",
              "</div>"
            ],
            "text/plain": [
              "               ^GSPC     ^IXIC    ^GDAXI   ^GSPTSE\n",
              "Date                                              \n",
              "1997-01-02       NaN       NaN       NaN       NaN\n",
              "1997-01-03  0.014952  0.023409  0.015049  0.002574\n",
              "1997-01-06 -0.000508  0.004364  0.009409  0.000203\n",
              "1997-01-07  0.007463  0.008607 -0.004795  0.004425\n",
              "1997-01-08 -0.006399 -0.005558  0.009644 -0.002842\n",
              "...              ...       ...       ...       ...\n",
              "2020-12-24  0.003537  0.002633       NaN  0.001722\n",
              "2020-12-28  0.008723  0.007395       NaN       NaN\n",
              "2020-12-29 -0.002227 -0.003814 -0.002096       NaN\n",
              "2020-12-30  0.001342  0.001539 -0.003096  0.000137\n",
              "2020-12-31  0.000423 -0.000896       NaN -0.001235\n",
              "\n",
              "[6041 rows x 4 columns]"
            ]
          },
          "metadata": {
            "tags": []
          },
          "execution_count": 24
        }
      ]
    },
    {
      "cell_type": "code",
      "metadata": {
        "colab": {
          "base_uri": "https://localhost:8080/",
          "height": 172
        },
        "id": "H1xotjxzdebU",
        "outputId": "5e3065ec-dad7-4c6f-8609-f4d528f6e905"
      },
      "source": [
        "returns.corr()"
      ],
      "execution_count": null,
      "outputs": [
        {
          "output_type": "execute_result",
          "data": {
            "text/html": [
              "<div>\n",
              "<style scoped>\n",
              "    .dataframe tbody tr th:only-of-type {\n",
              "        vertical-align: middle;\n",
              "    }\n",
              "\n",
              "    .dataframe tbody tr th {\n",
              "        vertical-align: top;\n",
              "    }\n",
              "\n",
              "    .dataframe thead th {\n",
              "        text-align: right;\n",
              "    }\n",
              "</style>\n",
              "<table border=\"1\" class=\"dataframe\">\n",
              "  <thead>\n",
              "    <tr style=\"text-align: right;\">\n",
              "      <th></th>\n",
              "      <th>^GSPC</th>\n",
              "      <th>^IXIC</th>\n",
              "      <th>^GDAXI</th>\n",
              "      <th>^GSPTSE</th>\n",
              "    </tr>\n",
              "  </thead>\n",
              "  <tbody>\n",
              "    <tr>\n",
              "      <th>^GSPC</th>\n",
              "      <td>1.000000</td>\n",
              "      <td>0.891681</td>\n",
              "      <td>0.599783</td>\n",
              "      <td>0.767466</td>\n",
              "    </tr>\n",
              "    <tr>\n",
              "      <th>^IXIC</th>\n",
              "      <td>0.891681</td>\n",
              "      <td>1.000000</td>\n",
              "      <td>0.546491</td>\n",
              "      <td>0.710706</td>\n",
              "    </tr>\n",
              "    <tr>\n",
              "      <th>^GDAXI</th>\n",
              "      <td>0.599783</td>\n",
              "      <td>0.546491</td>\n",
              "      <td>1.000000</td>\n",
              "      <td>0.554607</td>\n",
              "    </tr>\n",
              "    <tr>\n",
              "      <th>^GSPTSE</th>\n",
              "      <td>0.767466</td>\n",
              "      <td>0.710706</td>\n",
              "      <td>0.554607</td>\n",
              "      <td>1.000000</td>\n",
              "    </tr>\n",
              "  </tbody>\n",
              "</table>\n",
              "</div>"
            ],
            "text/plain": [
              "            ^GSPC     ^IXIC    ^GDAXI   ^GSPTSE\n",
              "^GSPC    1.000000  0.891681  0.599783  0.767466\n",
              "^IXIC    0.891681  1.000000  0.546491  0.710706\n",
              "^GDAXI   0.599783  0.546491  1.000000  0.554607\n",
              "^GSPTSE  0.767466  0.710706  0.554607  1.000000"
            ]
          },
          "metadata": {
            "tags": []
          },
          "execution_count": 32
        }
      ]
    },
    {
      "cell_type": "code",
      "metadata": {
        "colab": {
          "base_uri": "https://localhost:8080/"
        },
        "id": "aMkBXxU9pmdL",
        "outputId": "b7e7a9ca-8cd9-4832-a144-101ff83005cc"
      },
      "source": [
        "weights = np.array([0.25,0.25,0.25,0.25])\n",
        "\n",
        "annual_returns = returns.mean() * 250\n",
        "annual_returns\n"
      ],
      "execution_count": null,
      "outputs": [
        {
          "output_type": "execute_result",
          "data": {
            "text/plain": [
              "^GSPC      0.086584\n",
              "^IXIC      0.127241\n",
              "^GDAXI     0.078552\n",
              "^GSPTSE    0.049903\n",
              "dtype: float64"
            ]
          },
          "metadata": {
            "tags": []
          },
          "execution_count": 25
        }
      ]
    },
    {
      "cell_type": "code",
      "metadata": {
        "colab": {
          "base_uri": "https://localhost:8080/"
        },
        "id": "6cFhegaC-gRs",
        "outputId": "1e4c9574-a407-4d2b-9ffe-28105786dac2"
      },
      "source": [
        "\n",
        "np.dot(annual_returns, weights)"
      ],
      "execution_count": null,
      "outputs": [
        {
          "output_type": "execute_result",
          "data": {
            "text/plain": [
              "0.0855699198698894"
            ]
          },
          "metadata": {
            "tags": []
          },
          "execution_count": 35
        }
      ]
    },
    {
      "cell_type": "code",
      "metadata": {
        "colab": {
          "base_uri": "https://localhost:8080/"
        },
        "id": "5yzztKTncomN",
        "outputId": "ef270918-063c-4d15-9ea8-df6e92a2af41"
      },
      "source": [
        "annual_returns.mean()"
      ],
      "execution_count": null,
      "outputs": [
        {
          "output_type": "execute_result",
          "data": {
            "text/plain": [
              "0.0855699198698894"
            ]
          },
          "metadata": {
            "tags": []
          },
          "execution_count": 27
        }
      ]
    },
    {
      "cell_type": "code",
      "metadata": {
        "colab": {
          "base_uri": "https://localhost:8080/"
        },
        "id": "AVikPvq5-iMG",
        "outputId": "509690d7-5faf-43c8-d532-fa1e88fa463e"
      },
      "source": [
        "annual_returns.std()"
      ],
      "execution_count": null,
      "outputs": [
        {
          "output_type": "execute_result",
          "data": {
            "text/plain": [
              "0.031931679076655714"
            ]
          },
          "metadata": {
            "tags": []
          },
          "execution_count": 28
        }
      ]
    },
    {
      "cell_type": "code",
      "metadata": {
        "colab": {
          "base_uri": "https://localhost:8080/"
        },
        "id": "V2_28YR7cvHb",
        "outputId": "b5599efc-ac18-4f52-eac9-e7d6c4da7d38"
      },
      "source": [
        "annual_returns.std() ** 0.5"
      ],
      "execution_count": null,
      "outputs": [
        {
          "output_type": "execute_result",
          "data": {
            "text/plain": [
              "0.17869437337715957"
            ]
          },
          "metadata": {
            "tags": []
          },
          "execution_count": 29
        }
      ]
    },
    {
      "cell_type": "code",
      "metadata": {
        "colab": {
          "base_uri": "https://localhost:8080/",
          "height": 167
        },
        "id": "uaiCH23gc7TR",
        "outputId": "7e1ce8a9-9737-43a4-c1ac-3f7d3b53160d"
      },
      "source": [
        "annual_returns.corr()"
      ],
      "execution_count": null,
      "outputs": [
        {
          "output_type": "error",
          "ename": "TypeError",
          "evalue": "ignored",
          "traceback": [
            "\u001b[0;31m---------------------------------------------------------------------------\u001b[0m",
            "\u001b[0;31mTypeError\u001b[0m                                 Traceback (most recent call last)",
            "\u001b[0;32m<ipython-input-31-48f75be979b7>\u001b[0m in \u001b[0;36m<module>\u001b[0;34m()\u001b[0m\n\u001b[0;32m----> 1\u001b[0;31m \u001b[0mannual_returns\u001b[0m\u001b[0;34m.\u001b[0m\u001b[0mcorr\u001b[0m\u001b[0;34m(\u001b[0m\u001b[0;34m)\u001b[0m\u001b[0;34m\u001b[0m\u001b[0;34m\u001b[0m\u001b[0m\n\u001b[0m",
            "\u001b[0;31mTypeError\u001b[0m: corr() missing 1 required positional argument: 'other'"
          ]
        }
      ]
    },
    {
      "cell_type": "code",
      "metadata": {
        "id": "l4Bxj_0odhnO"
      },
      "source": [
        ""
      ],
      "execution_count": null,
      "outputs": []
    },
    {
      "cell_type": "code",
      "metadata": {
        "id": "YE7zF50X6TZk"
      },
      "source": [
        ""
      ],
      "execution_count": null,
      "outputs": []
    }
  ]
}